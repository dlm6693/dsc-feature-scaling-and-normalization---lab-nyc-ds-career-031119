{
 "cells": [
  {
   "cell_type": "markdown",
   "metadata": {},
   "source": [
    "## Feature Scaling and Normalization - Lab"
   ]
  },
  {
   "cell_type": "markdown",
   "metadata": {},
   "source": [
    "## Introduction\n",
    "In this lab, you'll practice your feature scaling and normalization skills!"
   ]
  },
  {
   "cell_type": "markdown",
   "metadata": {},
   "source": [
    "## Objectives\n",
    "You will be able to:\n",
    "* Implement min-max scaling, mean-normalization, log normalization and unit vector normalization in python\n",
    "* Identify appropriate normalization and scaling techniques for given dataset"
   ]
  },
  {
   "cell_type": "markdown",
   "metadata": {},
   "source": [
    "## Back to our Boston Housing data"
   ]
  },
  {
   "cell_type": "markdown",
   "metadata": {},
   "source": [
    "Let's import our Boston Housing data. Remember we categorized two variables and deleted the \"NOX\" (nitride oxide concentration) variable because it was highly correlated with two other features."
   ]
  },
  {
   "cell_type": "code",
   "execution_count": 1,
   "metadata": {},
   "outputs": [],
   "source": [
    "import pandas as pd\n",
    "from sklearn.datasets import load_boston\n",
    "boston = load_boston()\n",
    "\n",
    "boston_features = pd.DataFrame(boston.data, columns = boston.feature_names)\n",
    "\n",
    "# first, create bins for based on the values observed. 5 values will result in 4 bins\n",
    "bins = [0, 3, 4 , 5, 24]\n",
    "bins_rad = pd.cut(boston_features['RAD'], bins)\n",
    "bins_rad = bins_rad.cat.as_unordered()\n",
    "\n",
    "# first, create bins for based on the values observed. 5 values will result in 4 bins\n",
    "bins = [0, 250, 300, 360, 460, 712]\n",
    "bins_tax = pd.cut(boston_features['TAX'], bins)\n",
    "bins_tax = bins_tax.cat.as_unordered()\n",
    "\n",
    "tax_dummy = pd.get_dummies(bins_tax, prefix=\"TAX\")\n",
    "rad_dummy = pd.get_dummies(bins_rad, prefix=\"RAD\")\n",
    "boston_features = boston_features.drop([\"RAD\",\"TAX\"], axis=1)\n",
    "boston_features = pd.concat([boston_features, rad_dummy, tax_dummy], axis=1)\n",
    "boston_features = boston_features.drop(\"NOX\",axis=1)"
   ]
  },
  {
   "cell_type": "markdown",
   "metadata": {},
   "source": [
    "## Look at the histograms for the continuous variables"
   ]
  },
  {
   "cell_type": "code",
   "execution_count": 2,
   "metadata": {},
   "outputs": [
    {
     "data": {
      "text/html": [
       "<div>\n",
       "<style scoped>\n",
       "    .dataframe tbody tr th:only-of-type {\n",
       "        vertical-align: middle;\n",
       "    }\n",
       "\n",
       "    .dataframe tbody tr th {\n",
       "        vertical-align: top;\n",
       "    }\n",
       "\n",
       "    .dataframe thead th {\n",
       "        text-align: right;\n",
       "    }\n",
       "</style>\n",
       "<table border=\"1\" class=\"dataframe\">\n",
       "  <thead>\n",
       "    <tr style=\"text-align: right;\">\n",
       "      <th></th>\n",
       "      <th>CRIM</th>\n",
       "      <th>ZN</th>\n",
       "      <th>INDUS</th>\n",
       "      <th>CHAS</th>\n",
       "      <th>RM</th>\n",
       "      <th>AGE</th>\n",
       "      <th>DIS</th>\n",
       "      <th>PTRATIO</th>\n",
       "      <th>B</th>\n",
       "      <th>LSTAT</th>\n",
       "      <th>RAD_(0, 3]</th>\n",
       "      <th>RAD_(3, 4]</th>\n",
       "      <th>RAD_(4, 5]</th>\n",
       "      <th>RAD_(5, 24]</th>\n",
       "      <th>TAX_(0, 250]</th>\n",
       "      <th>TAX_(250, 300]</th>\n",
       "      <th>TAX_(300, 360]</th>\n",
       "      <th>TAX_(360, 460]</th>\n",
       "      <th>TAX_(460, 712]</th>\n",
       "    </tr>\n",
       "  </thead>\n",
       "  <tbody>\n",
       "    <tr>\n",
       "      <th>0</th>\n",
       "      <td>0.00632</td>\n",
       "      <td>18.0</td>\n",
       "      <td>2.31</td>\n",
       "      <td>0.0</td>\n",
       "      <td>6.575</td>\n",
       "      <td>65.2</td>\n",
       "      <td>4.0900</td>\n",
       "      <td>15.3</td>\n",
       "      <td>396.90</td>\n",
       "      <td>4.98</td>\n",
       "      <td>1</td>\n",
       "      <td>0</td>\n",
       "      <td>0</td>\n",
       "      <td>0</td>\n",
       "      <td>0</td>\n",
       "      <td>1</td>\n",
       "      <td>0</td>\n",
       "      <td>0</td>\n",
       "      <td>0</td>\n",
       "    </tr>\n",
       "    <tr>\n",
       "      <th>1</th>\n",
       "      <td>0.02731</td>\n",
       "      <td>0.0</td>\n",
       "      <td>7.07</td>\n",
       "      <td>0.0</td>\n",
       "      <td>6.421</td>\n",
       "      <td>78.9</td>\n",
       "      <td>4.9671</td>\n",
       "      <td>17.8</td>\n",
       "      <td>396.90</td>\n",
       "      <td>9.14</td>\n",
       "      <td>1</td>\n",
       "      <td>0</td>\n",
       "      <td>0</td>\n",
       "      <td>0</td>\n",
       "      <td>1</td>\n",
       "      <td>0</td>\n",
       "      <td>0</td>\n",
       "      <td>0</td>\n",
       "      <td>0</td>\n",
       "    </tr>\n",
       "    <tr>\n",
       "      <th>2</th>\n",
       "      <td>0.02729</td>\n",
       "      <td>0.0</td>\n",
       "      <td>7.07</td>\n",
       "      <td>0.0</td>\n",
       "      <td>7.185</td>\n",
       "      <td>61.1</td>\n",
       "      <td>4.9671</td>\n",
       "      <td>17.8</td>\n",
       "      <td>392.83</td>\n",
       "      <td>4.03</td>\n",
       "      <td>1</td>\n",
       "      <td>0</td>\n",
       "      <td>0</td>\n",
       "      <td>0</td>\n",
       "      <td>1</td>\n",
       "      <td>0</td>\n",
       "      <td>0</td>\n",
       "      <td>0</td>\n",
       "      <td>0</td>\n",
       "    </tr>\n",
       "    <tr>\n",
       "      <th>3</th>\n",
       "      <td>0.03237</td>\n",
       "      <td>0.0</td>\n",
       "      <td>2.18</td>\n",
       "      <td>0.0</td>\n",
       "      <td>6.998</td>\n",
       "      <td>45.8</td>\n",
       "      <td>6.0622</td>\n",
       "      <td>18.7</td>\n",
       "      <td>394.63</td>\n",
       "      <td>2.94</td>\n",
       "      <td>1</td>\n",
       "      <td>0</td>\n",
       "      <td>0</td>\n",
       "      <td>0</td>\n",
       "      <td>1</td>\n",
       "      <td>0</td>\n",
       "      <td>0</td>\n",
       "      <td>0</td>\n",
       "      <td>0</td>\n",
       "    </tr>\n",
       "    <tr>\n",
       "      <th>4</th>\n",
       "      <td>0.06905</td>\n",
       "      <td>0.0</td>\n",
       "      <td>2.18</td>\n",
       "      <td>0.0</td>\n",
       "      <td>7.147</td>\n",
       "      <td>54.2</td>\n",
       "      <td>6.0622</td>\n",
       "      <td>18.7</td>\n",
       "      <td>396.90</td>\n",
       "      <td>5.33</td>\n",
       "      <td>1</td>\n",
       "      <td>0</td>\n",
       "      <td>0</td>\n",
       "      <td>0</td>\n",
       "      <td>1</td>\n",
       "      <td>0</td>\n",
       "      <td>0</td>\n",
       "      <td>0</td>\n",
       "      <td>0</td>\n",
       "    </tr>\n",
       "  </tbody>\n",
       "</table>\n",
       "</div>"
      ],
      "text/plain": [
       "      CRIM    ZN  INDUS  CHAS     RM   AGE     DIS  PTRATIO       B  LSTAT  \\\n",
       "0  0.00632  18.0   2.31   0.0  6.575  65.2  4.0900     15.3  396.90   4.98   \n",
       "1  0.02731   0.0   7.07   0.0  6.421  78.9  4.9671     17.8  396.90   9.14   \n",
       "2  0.02729   0.0   7.07   0.0  7.185  61.1  4.9671     17.8  392.83   4.03   \n",
       "3  0.03237   0.0   2.18   0.0  6.998  45.8  6.0622     18.7  394.63   2.94   \n",
       "4  0.06905   0.0   2.18   0.0  7.147  54.2  6.0622     18.7  396.90   5.33   \n",
       "\n",
       "   RAD_(0, 3]  RAD_(3, 4]  RAD_(4, 5]  RAD_(5, 24]  TAX_(0, 250]  \\\n",
       "0           1           0           0            0             0   \n",
       "1           1           0           0            0             1   \n",
       "2           1           0           0            0             1   \n",
       "3           1           0           0            0             1   \n",
       "4           1           0           0            0             1   \n",
       "\n",
       "   TAX_(250, 300]  TAX_(300, 360]  TAX_(360, 460]  TAX_(460, 712]  \n",
       "0               1               0               0               0  \n",
       "1               0               0               0               0  \n",
       "2               0               0               0               0  \n",
       "3               0               0               0               0  \n",
       "4               0               0               0               0  "
      ]
     },
     "execution_count": 2,
     "metadata": {},
     "output_type": "execute_result"
    }
   ],
   "source": [
    "boston_features.head()"
   ]
  },
  {
   "cell_type": "code",
   "execution_count": 3,
   "metadata": {
    "scrolled": true
   },
   "outputs": [
    {
     "data": {
      "text/html": [
       "<div>\n",
       "<style scoped>\n",
       "    .dataframe tbody tr th:only-of-type {\n",
       "        vertical-align: middle;\n",
       "    }\n",
       "\n",
       "    .dataframe tbody tr th {\n",
       "        vertical-align: top;\n",
       "    }\n",
       "\n",
       "    .dataframe thead th {\n",
       "        text-align: right;\n",
       "    }\n",
       "</style>\n",
       "<table border=\"1\" class=\"dataframe\">\n",
       "  <thead>\n",
       "    <tr style=\"text-align: right;\">\n",
       "      <th></th>\n",
       "      <th>CRIM</th>\n",
       "      <th>ZN</th>\n",
       "      <th>INDUS</th>\n",
       "      <th>RM</th>\n",
       "      <th>AGE</th>\n",
       "      <th>DIS</th>\n",
       "      <th>PTRATIO</th>\n",
       "      <th>B</th>\n",
       "      <th>LSTAT</th>\n",
       "    </tr>\n",
       "  </thead>\n",
       "  <tbody>\n",
       "    <tr>\n",
       "      <th>0</th>\n",
       "      <td>0.00632</td>\n",
       "      <td>18.0</td>\n",
       "      <td>2.31</td>\n",
       "      <td>6.575</td>\n",
       "      <td>65.2</td>\n",
       "      <td>4.0900</td>\n",
       "      <td>15.3</td>\n",
       "      <td>396.90</td>\n",
       "      <td>4.98</td>\n",
       "    </tr>\n",
       "    <tr>\n",
       "      <th>1</th>\n",
       "      <td>0.02731</td>\n",
       "      <td>0.0</td>\n",
       "      <td>7.07</td>\n",
       "      <td>6.421</td>\n",
       "      <td>78.9</td>\n",
       "      <td>4.9671</td>\n",
       "      <td>17.8</td>\n",
       "      <td>396.90</td>\n",
       "      <td>9.14</td>\n",
       "    </tr>\n",
       "    <tr>\n",
       "      <th>2</th>\n",
       "      <td>0.02729</td>\n",
       "      <td>0.0</td>\n",
       "      <td>7.07</td>\n",
       "      <td>7.185</td>\n",
       "      <td>61.1</td>\n",
       "      <td>4.9671</td>\n",
       "      <td>17.8</td>\n",
       "      <td>392.83</td>\n",
       "      <td>4.03</td>\n",
       "    </tr>\n",
       "    <tr>\n",
       "      <th>3</th>\n",
       "      <td>0.03237</td>\n",
       "      <td>0.0</td>\n",
       "      <td>2.18</td>\n",
       "      <td>6.998</td>\n",
       "      <td>45.8</td>\n",
       "      <td>6.0622</td>\n",
       "      <td>18.7</td>\n",
       "      <td>394.63</td>\n",
       "      <td>2.94</td>\n",
       "    </tr>\n",
       "    <tr>\n",
       "      <th>4</th>\n",
       "      <td>0.06905</td>\n",
       "      <td>0.0</td>\n",
       "      <td>2.18</td>\n",
       "      <td>7.147</td>\n",
       "      <td>54.2</td>\n",
       "      <td>6.0622</td>\n",
       "      <td>18.7</td>\n",
       "      <td>396.90</td>\n",
       "      <td>5.33</td>\n",
       "    </tr>\n",
       "  </tbody>\n",
       "</table>\n",
       "</div>"
      ],
      "text/plain": [
       "      CRIM    ZN  INDUS     RM   AGE     DIS  PTRATIO       B  LSTAT\n",
       "0  0.00632  18.0   2.31  6.575  65.2  4.0900     15.3  396.90   4.98\n",
       "1  0.02731   0.0   7.07  6.421  78.9  4.9671     17.8  396.90   9.14\n",
       "2  0.02729   0.0   7.07  7.185  61.1  4.9671     17.8  392.83   4.03\n",
       "3  0.03237   0.0   2.18  6.998  45.8  6.0622     18.7  394.63   2.94\n",
       "4  0.06905   0.0   2.18  7.147  54.2  6.0622     18.7  396.90   5.33"
      ]
     },
     "execution_count": 3,
     "metadata": {},
     "output_type": "execute_result"
    }
   ],
   "source": [
    "boston_cont = boston_features.iloc[:, :10]\n",
    "boston_cont.drop('CHAS', axis=1, inplace=True)\n",
    "boston_cont.head()"
   ]
  },
  {
   "cell_type": "code",
   "execution_count": 5,
   "metadata": {},
   "outputs": [
    {
     "data": {
      "image/png": "[encoded data removed]",
      "text/plain": [
       "<Figure size 1296x576 with 9 Axes>"
      ]
     },
     "metadata": {
      "needs_background": "light"
     },
     "output_type": "display_data"
    }
   ],
   "source": [
    "import matplotlib.pyplot as plt\n",
    "%matplotlib inline\n",
    "boston_cont.hist(figsize=(18, 8));"
   ]
  },
  {
   "cell_type": "markdown",
   "metadata": {},
   "source": [
    "## Perform log transformations for the variables where it makes sense"
   ]
  },
  {
   "cell_type": "markdown",
   "metadata": {},
   "source": [
    "Analyze the results in terms of how they improved the normality performance. What is the problem with the \"ZN\" variable?  "
   ]
  },
  {
   "cell_type": "code",
   "execution_count": 6,
   "metadata": {},
   "outputs": [],
   "source": [
    "import numpy as np\n",
    "boston_log = pd.DataFrame([])\n",
    "boston_log['AGE'] = np.log(boston_cont.AGE)\n",
    "boston_log['B'] = np.log(boston_cont.B)\n",
    "boston_log['CRIM'] = np.log(boston_cont.CRIM)\n",
    "boston_log['DIS'] = np.log(boston_cont.DIS)\n",
    "boston_log['INDUS'] = np.log(boston_cont.INDUS)\n",
    "boston_log['LSTAT'] = np.log(boston_cont.LSTAT)\n",
    "boston_log['PTRATIO'] = np.log(boston_cont.PTRATIO)"
   ]
  },
  {
   "cell_type": "code",
   "execution_count": 7,
   "metadata": {},
   "outputs": [
    {
     "data": {
      "image/png": "[encoded data removed]",
      "text/plain": [
       "<Figure size 1296x576 with 9 Axes>"
      ]
     },
     "metadata": {
      "needs_background": "light"
     },
     "output_type": "display_data"
    }
   ],
   "source": [
    "boston_log.hist(figsize=(18,8));"
   ]
  },
  {
   "cell_type": "markdown",
   "metadata": {},
   "source": [
    "\"ZN\" has a lot of zeros (more than 50%!). Remember that this variable denoted: \"proportion of residential land zoned for lots over 25,000 sq.ft.\". It might have made sense to categorize this variable to \"over 25,000 feet or not (binary variable 1/0). Now you have a zero-inflated variable which is cumbersome to work with."
   ]
  },
  {
   "cell_type": "markdown",
   "metadata": {},
   "source": [
    "## Try different types of transformations on the continuous variables"
   ]
  },
  {
   "cell_type": "markdown",
   "metadata": {},
   "source": [
    "Store your final features in a dataframe `features_final`"
   ]
  },
  {
   "cell_type": "code",
   "execution_count": 11,
   "metadata": {},
   "outputs": [
    {
     "ename": "ValueError",
     "evalue": "Expected 2D array, got 1D array instead:\narray=[3.9690e+02 3.9690e+02 3.9283e+02 3.9463e+02 3.9690e+02 3.9412e+02\n 3.9560e+02 3.9690e+02 3.8663e+02 3.8671e+02 3.9252e+02 3.9690e+02\n 3.9050e+02 3.9690e+02 3.8002e+02 3.9562e+02 3.8685e+02 3.8675e+02\n 2.8899e+02 3.9095e+02 3.7657e+02 3.9253e+02 3.9690e+02 3.9454e+02\n 3.9433e+02 3.0342e+02 3.7688e+02 3.0638e+02 3.8794e+02 3.8023e+02\n 3.6017e+02 3.7673e+02 2.3260e+02 3.5877e+02 2.4831e+02 3.9690e+02\n 3.7756e+02 3.9690e+02 3.9343e+02 3.9563e+02 3.9562e+02 3.8541e+02\n 3.8337e+02 3.9446e+02 3.8939e+02 3.9690e+02 3.9690e+02 3.9274e+02\n 3.9690e+02 3.9690e+02 3.9556e+02 3.9397e+02 3.9690e+02 3.9690e+02\n 3.9690e+02 3.9593e+02 3.9690e+02 3.9290e+02 3.9068e+02 3.9690e+02\n 3.9511e+02 3.7808e+02 3.9690e+02 3.9558e+02 3.9324e+02 3.9690e+02\n 3.9690e+02 3.9621e+02 3.9690e+02 3.9690e+02 3.8373e+02 3.7694e+02\n 3.9091e+02 3.7717e+02 3.9492e+02 3.8323e+02 3.7366e+02 3.8696e+02\n 3.8640e+02 3.9606e+02 3.9690e+02 3.9563e+02 3.9690e+02 3.9064e+02\n 3.9690e+02 3.9230e+02 3.9599e+02 3.9515e+02 3.9690e+02 3.9606e+02\n 3.9218e+02 3.9355e+02 3.9501e+02 3.9633e+02 3.9690e+02 3.5798e+02\n 3.9183e+02 3.9690e+02 3.9353e+02 3.9690e+02 3.9476e+02 3.9558e+02\n 7.0800e+01 3.9447e+02 3.9269e+02 3.9405e+02 3.9567e+02 3.8769e+02\n 3.9524e+02 3.9123e+02 3.9349e+02 3.9559e+02 3.9495e+02 3.9690e+02\n 3.8874e+02 3.4491e+02 3.9330e+02 3.9451e+02 3.3863e+02 3.9150e+02\n 3.8915e+02 3.7767e+02 3.7809e+02 3.7031e+02 3.7938e+02 3.8502e+02\n 3.5929e+02 3.9211e+02 3.9690e+02 3.9690e+02 3.9504e+02 3.9690e+02\n 3.8576e+02 3.8869e+02 2.6276e+02 3.9467e+02 3.7825e+02 3.9408e+02\n 3.9204e+02 3.9690e+02 3.8808e+02 3.9690e+02 3.9690e+02 3.9690e+02\n 3.9690e+02 1.7291e+02 1.6927e+02 3.9171e+02 3.5699e+02 3.5185e+02\n 3.7280e+02 3.4160e+02 3.4328e+02 2.6195e+02 3.2102e+02 8.8010e+01\n 8.8630e+01 3.6343e+02 3.5389e+02 3.6431e+02 3.3892e+02 3.7443e+02\n 3.8961e+02 3.8845e+02 3.9511e+02 2.4016e+02 3.6930e+02 2.2761e+02\n 2.9709e+02 3.3004e+02 2.9229e+02 3.4813e+02 3.9690e+02 3.9550e+02\n 3.9323e+02 3.9096e+02 3.9323e+02 3.9560e+02 3.9127e+02 3.9690e+02\n 3.9556e+02 3.9690e+02 3.9412e+02 3.9690e+02 3.9100e+02 3.8711e+02\n 3.9263e+02 3.9387e+02 3.8284e+02 3.9690e+02 3.7768e+02 3.8971e+02\n 3.9049e+02 3.9337e+02 3.7670e+02 3.9423e+02 3.9690e+02 3.5431e+02\n 3.9220e+02 3.9690e+02 3.8430e+02 3.9377e+02 3.9538e+02 3.9278e+02\n 3.9055e+02 3.9690e+02 3.9487e+02 3.8943e+02 3.8132e+02 3.9690e+02\n 3.9325e+02 3.9524e+02 3.9094e+02 3.8581e+02 3.4893e+02 3.9363e+02\n 3.9280e+02 3.9278e+02 3.9690e+02 3.9374e+02 3.9170e+02 3.9524e+02\n 3.9039e+02 3.9690e+02 3.8505e+02 3.8200e+02 3.8738e+02 3.7208e+02\n 3.7751e+02 3.8034e+02 3.7835e+02 3.7614e+02 3.8591e+02 3.7895e+02\n 3.6020e+02 3.7675e+02 3.8845e+02 3.9007e+02 3.7941e+02 3.8378e+02\n 3.9125e+02 3.9462e+02 3.7275e+02 3.7471e+02 3.7249e+02 3.8913e+02\n 3.9018e+02 3.7614e+02 3.7471e+02 3.9374e+02 3.9628e+02 3.7707e+02\n 3.8609e+02 3.9690e+02 3.9289e+02 3.9518e+02 3.8634e+02 3.8970e+02\n 3.8329e+02 3.9193e+02 3.9280e+02 3.8837e+02 3.8686e+02 3.9342e+02\n 3.8789e+02 3.9240e+02 3.8407e+02 3.8454e+02 3.9030e+02 3.9134e+02\n 3.8865e+02 3.9690e+02 3.9496e+02 3.9077e+02 3.9690e+02 3.9690e+02\n 3.8925e+02 3.9345e+02 3.9690e+02 3.9690e+02 3.8731e+02 3.9223e+02\n 3.7707e+02 3.9552e+02 3.9472e+02 3.9472e+02 3.4160e+02 3.9690e+02\n 3.9690e+02 3.7172e+02 3.9690e+02 3.9690e+02 3.9690e+02 3.9690e+02\n 3.9690e+02 3.9690e+02 3.9285e+02 3.9690e+02 3.6824e+02 3.7158e+02\n 3.9086e+02 3.9575e+02 3.8361e+02 3.9043e+02 3.9368e+02 3.9336e+02\n 3.9690e+02 3.9690e+02 3.9690e+02 3.9624e+02 3.5045e+02 3.9690e+02\n 3.9630e+02 3.9339e+02 3.9569e+02 3.9642e+02 3.9070e+02 3.9690e+02\n 3.9521e+02 3.9623e+02 3.9690e+02 3.9690e+02 3.9690e+02 3.9113e+02\n 3.9690e+02 3.9368e+02 3.9690e+02 3.9690e+02 3.8244e+02 3.7521e+02\n 3.6857e+02 3.9402e+02 3.6225e+02 3.8971e+02 3.8940e+02 3.9690e+02\n 3.9690e+02 3.9481e+02 3.9614e+02 3.9690e+02 3.9690e+02 3.9474e+02\n 3.8996e+02 3.9690e+02 3.8797e+02 3.8564e+02 3.6461e+02 3.9243e+02\n 3.9094e+02 3.8985e+02 3.9690e+02 3.7078e+02 3.9233e+02 3.8446e+02\n 3.8280e+02 3.7604e+02 3.7773e+02 3.9134e+02 3.9543e+02 3.9074e+02\n 3.7456e+02 3.5065e+02 3.8079e+02 3.5304e+02 3.5455e+02 3.5470e+02\n 3.1603e+02 1.3142e+02 3.7552e+02 3.7533e+02 3.9205e+02 3.6615e+02\n 3.4788e+02 3.9690e+02 3.9690e+02 3.9690e+02 3.6302e+02 3.9690e+02\n 3.9690e+02 3.9374e+02 3.9690e+02 3.9690e+02 3.9690e+02 3.9690e+02\n 2.8583e+02 3.9690e+02 3.9690e+02 3.9690e+02 3.7292e+02 3.9690e+02\n 3.9443e+02 3.7838e+02 3.9690e+02 3.9690e+02 3.9690e+02 3.9198e+02\n 3.9690e+02 3.9310e+02 3.9690e+02 3.3816e+02 3.9690e+02 3.9690e+02\n 3.7611e+02 3.9690e+02 3.2946e+02 3.8497e+02 3.7022e+02 3.3209e+02\n 3.1464e+02 1.7936e+02 2.6000e+00 3.5050e+01 2.8790e+01 2.1097e+02\n 8.8270e+01 2.7250e+01 2.1570e+01 1.2736e+02 1.6450e+01 4.8450e+01\n 3.1875e+02 3.1998e+02 2.9155e+02 2.5200e+00 3.6500e+00 7.6800e+00\n 2.4650e+01 1.8820e+01 9.6730e+01 6.0720e+01 8.3450e+01 8.1330e+01\n 9.7950e+01 1.0019e+02 1.0063e+02 1.0985e+02 2.7490e+01 9.3200e+00\n 6.8950e+01 3.9690e+02 3.9145e+02 3.8596e+02 3.9569e+02 3.8673e+02\n 2.4052e+02 4.3060e+01 3.1801e+02 3.8852e+02 3.9690e+02 3.0421e+02\n 3.2000e-01 3.5529e+02 3.8509e+02 3.7587e+02 6.6800e+00 5.0920e+01\n 1.0480e+01 3.5000e+00 2.7221e+02 3.9690e+02 2.5523e+02 3.9143e+02\n 3.9690e+02 3.9382e+02 3.9690e+02 3.3440e+02 2.2010e+01 3.3129e+02\n 3.6874e+02 3.9690e+02 3.9690e+02 3.9533e+02 3.9337e+02 3.7468e+02\n 3.5258e+02 3.0276e+02 3.9621e+02 3.4948e+02 3.7970e+02 3.8332e+02\n 3.9690e+02 3.9307e+02 3.9528e+02 3.9292e+02 3.7073e+02 3.8862e+02\n 3.9268e+02 3.8822e+02 3.9509e+02 3.4405e+02 3.1843e+02 3.9011e+02\n 3.9690e+02 3.9690e+02 3.9690e+02 3.9329e+02 3.9690e+02 3.9690e+02\n 3.9690e+02 3.9577e+02 3.9690e+02 3.9199e+02 3.9690e+02 3.9690e+02\n 3.9345e+02 3.9690e+02].\nReshape your data either using array.reshape(-1, 1) if your data has a single feature or array.reshape(1, -1) if it contains a single sample.",
     "output_type": "error",
     "traceback": [
      "\u001b[0;31m\u001b[0m",
      "\u001b[0;31mValueError\u001b[0mTraceback (most recent call last)",
      "\u001b[0;32m<ipython-input-11-80c81a74e0af>\u001b[0m in \u001b[0;36m<module>\u001b[0;34m()\u001b[0m\n\u001b[1;32m      1\u001b[0m \u001b[0;32mfrom\u001b[0m \u001b[0msklearn\u001b[0m \u001b[0;32mimport\u001b[0m \u001b[0mpreprocessing\u001b[0m\u001b[0;34m\u001b[0m\u001b[0m\n\u001b[0;32m----> 2\u001b[0;31m \u001b[0mpreprocessing\u001b[0m\u001b[0;34m.\u001b[0m\u001b[0mMinMaxScaler\u001b[0m\u001b[0;34m(\u001b[0m\u001b[0;34m)\u001b[0m\u001b[0;34m.\u001b[0m\u001b[0mfit\u001b[0m\u001b[0;34m(\u001b[0m\u001b[0mboston_cont\u001b[0m\u001b[0;34m.\u001b[0m\u001b[0mB\u001b[0m\u001b[0;34m)\u001b[0m\u001b[0;34m\u001b[0m\u001b[0m\n\u001b[0m",
      "\u001b[0;32m/opt/conda/envs/learn-env/lib/python3.6/site-packages/sklearn/preprocessing/data.py\u001b[0m in \u001b[0;36mfit\u001b[0;34m(self, X, y)\u001b[0m\n\u001b[1;32m    321\u001b[0m         \u001b[0;31m# Reset internal state before fitting\u001b[0m\u001b[0;34m\u001b[0m\u001b[0;34m\u001b[0m\u001b[0m\n\u001b[1;32m    322\u001b[0m         \u001b[0mself\u001b[0m\u001b[0;34m.\u001b[0m\u001b[0m_reset\u001b[0m\u001b[0;34m(\u001b[0m\u001b[0;34m)\u001b[0m\u001b[0;34m\u001b[0m\u001b[0m\n\u001b[0;32m--> 323\u001b[0;31m         \u001b[0;32mreturn\u001b[0m \u001b[0mself\u001b[0m\u001b[0;34m.\u001b[0m\u001b[0mpartial_fit\u001b[0m\u001b[0;34m(\u001b[0m\u001b[0mX\u001b[0m\u001b[0;34m,\u001b[0m \u001b[0my\u001b[0m\u001b[0;34m)\u001b[0m\u001b[0;34m\u001b[0m\u001b[0m\n\u001b[0m\u001b[1;32m    324\u001b[0m \u001b[0;34m\u001b[0m\u001b[0m\n\u001b[1;32m    325\u001b[0m     \u001b[0;32mdef\u001b[0m \u001b[0mpartial_fit\u001b[0m\u001b[0;34m(\u001b[0m\u001b[0mself\u001b[0m\u001b[0;34m,\u001b[0m \u001b[0mX\u001b[0m\u001b[0;34m,\u001b[0m \u001b[0my\u001b[0m\u001b[0;34m=\u001b[0m\u001b[0;32mNone\u001b[0m\u001b[0;34m)\u001b[0m\u001b[0;34m:\u001b[0m\u001b[0;34m\u001b[0m\u001b[0m\n",
      "\u001b[0;32m/opt/conda/envs/learn-env/lib/python3.6/site-packages/sklearn/preprocessing/data.py\u001b[0m in \u001b[0;36mpartial_fit\u001b[0;34m(self, X, y)\u001b[0m\n\u001b[1;32m    349\u001b[0m         X = check_array(X, copy=self.copy, warn_on_dtype=True,\n\u001b[1;32m    350\u001b[0m                         \u001b[0mestimator\u001b[0m\u001b[0;34m=\u001b[0m\u001b[0mself\u001b[0m\u001b[0;34m,\u001b[0m \u001b[0mdtype\u001b[0m\u001b[0;34m=\u001b[0m\u001b[0mFLOAT_DTYPES\u001b[0m\u001b[0;34m,\u001b[0m\u001b[0;34m\u001b[0m\u001b[0m\n\u001b[0;32m--> 351\u001b[0;31m                         force_all_finite=\"allow-nan\")\n\u001b[0m\u001b[1;32m    352\u001b[0m \u001b[0;34m\u001b[0m\u001b[0m\n\u001b[1;32m    353\u001b[0m         \u001b[0mdata_min\u001b[0m \u001b[0;34m=\u001b[0m \u001b[0mnp\u001b[0m\u001b[0;34m.\u001b[0m\u001b[0mnanmin\u001b[0m\u001b[0;34m(\u001b[0m\u001b[0mX\u001b[0m\u001b[0;34m,\u001b[0m \u001b[0maxis\u001b[0m\u001b[0;34m=\u001b[0m\u001b[0;36m0\u001b[0m\u001b[0;34m)\u001b[0m\u001b[0;34m\u001b[0m\u001b[0m\n",
      "\u001b[0;32m/opt/conda/envs/learn-env/lib/python3.6/site-packages/sklearn/utils/validation.py\u001b[0m in \u001b[0;36mcheck_array\u001b[0;34m(array, accept_sparse, accept_large_sparse, dtype, order, copy, force_all_finite, ensure_2d, allow_nd, ensure_min_samples, ensure_min_features, warn_on_dtype, estimator)\u001b[0m\n\u001b[1;32m    550\u001b[0m                     \u001b[0;34m\"Reshape your data either using array.reshape(-1, 1) if \"\u001b[0m\u001b[0;34m\u001b[0m\u001b[0m\n\u001b[1;32m    551\u001b[0m                     \u001b[0;34m\"your data has a single feature or array.reshape(1, -1) \"\u001b[0m\u001b[0;34m\u001b[0m\u001b[0m\n\u001b[0;32m--> 552\u001b[0;31m                     \"if it contains a single sample.\".format(array))\n\u001b[0m\u001b[1;32m    553\u001b[0m \u001b[0;34m\u001b[0m\u001b[0m\n\u001b[1;32m    554\u001b[0m         \u001b[0;31m# in the future np.flexible dtypes will be handled like object dtypes\u001b[0m\u001b[0;34m\u001b[0m\u001b[0;34m\u001b[0m\u001b[0m\n",
      "\u001b[0;31mValueError\u001b[0m: Expected 2D array, got 1D array instead:\narray=[3.9690e+02 3.9690e+02 3.9283e+02 3.9463e+02 3.9690e+02 3.9412e+02\n 3.9560e+02 3.9690e+02 3.8663e+02 3.8671e+02 3.9252e+02 3.9690e+02\n 3.9050e+02 3.9690e+02 3.8002e+02 3.9562e+02 3.8685e+02 3.8675e+02\n 2.8899e+02 3.9095e+02 3.7657e+02 3.9253e+02 3.9690e+02 3.9454e+02\n 3.9433e+02 3.0342e+02 3.7688e+02 3.0638e+02 3.8794e+02 3.8023e+02\n 3.6017e+02 3.7673e+02 2.3260e+02 3.5877e+02 2.4831e+02 3.9690e+02\n 3.7756e+02 3.9690e+02 3.9343e+02 3.9563e+02 3.9562e+02 3.8541e+02\n 3.8337e+02 3.9446e+02 3.8939e+02 3.9690e+02 3.9690e+02 3.9274e+02\n 3.9690e+02 3.9690e+02 3.9556e+02 3.9397e+02 3.9690e+02 3.9690e+02\n 3.9690e+02 3.9593e+02 3.9690e+02 3.9290e+02 3.9068e+02 3.9690e+02\n 3.9511e+02 3.7808e+02 3.9690e+02 3.9558e+02 3.9324e+02 3.9690e+02\n 3.9690e+02 3.9621e+02 3.9690e+02 3.9690e+02 3.8373e+02 3.7694e+02\n 3.9091e+02 3.7717e+02 3.9492e+02 3.8323e+02 3.7366e+02 3.8696e+02\n 3.8640e+02 3.9606e+02 3.9690e+02 3.9563e+02 3.9690e+02 3.9064e+02\n 3.9690e+02 3.9230e+02 3.9599e+02 3.9515e+02 3.9690e+02 3.9606e+02\n 3.9218e+02 3.9355e+02 3.9501e+02 3.9633e+02 3.9690e+02 3.5798e+02\n 3.9183e+02 3.9690e+02 3.9353e+02 3.9690e+02 3.9476e+02 3.9558e+02\n 7.0800e+01 3.9447e+02 3.9269e+02 3.9405e+02 3.9567e+02 3.8769e+02\n 3.9524e+02 3.9123e+02 3.9349e+02 3.9559e+02 3.9495e+02 3.9690e+02\n 3.8874e+02 3.4491e+02 3.9330e+02 3.9451e+02 3.3863e+02 3.9150e+02\n 3.8915e+02 3.7767e+02 3.7809e+02 3.7031e+02 3.7938e+02 3.8502e+02\n 3.5929e+02 3.9211e+02 3.9690e+02 3.9690e+02 3.9504e+02 3.9690e+02\n 3.8576e+02 3.8869e+02 2.6276e+02 3.9467e+02 3.7825e+02 3.9408e+02\n 3.9204e+02 3.9690e+02 3.8808e+02 3.9690e+02 3.9690e+02 3.9690e+02\n 3.9690e+02 1.7291e+02 1.6927e+02 3.9171e+02 3.5699e+02 3.5185e+02\n 3.7280e+02 3.4160e+02 3.4328e+02 2.6195e+02 3.2102e+02 8.8010e+01\n 8.8630e+01 3.6343e+02 3.5389e+02 3.6431e+02 3.3892e+02 3.7443e+02\n 3.8961e+02 3.8845e+02 3.9511e+02 2.4016e+02 3.6930e+02 2.2761e+02\n 2.9709e+02 3.3004e+02 2.9229e+02 3.4813e+02 3.9690e+02 3.9550e+02\n 3.9323e+02 3.9096e+02 3.9323e+02 3.9560e+02 3.9127e+02 3.9690e+02\n 3.9556e+02 3.9690e+02 3.9412e+02 3.9690e+02 3.9100e+02 3.8711e+02\n 3.9263e+02 3.9387e+02 3.8284e+02 3.9690e+02 3.7768e+02 3.8971e+02\n 3.9049e+02 3.9337e+02 3.7670e+02 3.9423e+02 3.9690e+02 3.5431e+02\n 3.9220e+02 3.9690e+02 3.8430e+02 3.9377e+02 3.9538e+02 3.9278e+02\n 3.9055e+02 3.9690e+02 3.9487e+02 3.8943e+02 3.8132e+02 3.9690e+02\n 3.9325e+02 3.9524e+02 3.9094e+02 3.8581e+02 3.4893e+02 3.9363e+02\n 3.9280e+02 3.9278e+02 3.9690e+02 3.9374e+02 3.9170e+02 3.9524e+02\n 3.9039e+02 3.9690e+02 3.8505e+02 3.8200e+02 3.8738e+02 3.7208e+02\n 3.7751e+02 3.8034e+02 3.7835e+02 3.7614e+02 3.8591e+02 3.7895e+02\n 3.6020e+02 3.7675e+02 3.8845e+02 3.9007e+02 3.7941e+02 3.8378e+02\n 3.9125e+02 3.9462e+02 3.7275e+02 3.7471e+02 3.7249e+02 3.8913e+02\n 3.9018e+02 3.7614e+02 3.7471e+02 3.9374e+02 3.9628e+02 3.7707e+02\n 3.8609e+02 3.9690e+02 3.9289e+02 3.9518e+02 3.8634e+02 3.8970e+02\n 3.8329e+02 3.9193e+02 3.9280e+02 3.8837e+02 3.8686e+02 3.9342e+02\n 3.8789e+02 3.9240e+02 3.8407e+02 3.8454e+02 3.9030e+02 3.9134e+02\n 3.8865e+02 3.9690e+02 3.9496e+02 3.9077e+02 3.9690e+02 3.9690e+02\n 3.8925e+02 3.9345e+02 3.9690e+02 3.9690e+02 3.8731e+02 3.9223e+02\n 3.7707e+02 3.9552e+02 3.9472e+02 3.9472e+02 3.4160e+02 3.9690e+02\n 3.9690e+02 3.7172e+02 3.9690e+02 3.9690e+02 3.9690e+02 3.9690e+02\n 3.9690e+02 3.9690e+02 3.9285e+02 3.9690e+02 3.6824e+02 3.7158e+02\n 3.9086e+02 3.9575e+02 3.8361e+02 3.9043e+02 3.9368e+02 3.9336e+02\n 3.9690e+02 3.9690e+02 3.9690e+02 3.9624e+02 3.5045e+02 3.9690e+02\n 3.9630e+02 3.9339e+02 3.9569e+02 3.9642e+02 3.9070e+02 3.9690e+02\n 3.9521e+02 3.9623e+02 3.9690e+02 3.9690e+02 3.9690e+02 3.9113e+02\n 3.9690e+02 3.9368e+02 3.9690e+02 3.9690e+02 3.8244e+02 3.7521e+02\n 3.6857e+02 3.9402e+02 3.6225e+02 3.8971e+02 3.8940e+02 3.9690e+02\n 3.9690e+02 3.9481e+02 3.9614e+02 3.9690e+02 3.9690e+02 3.9474e+02\n 3.8996e+02 3.9690e+02 3.8797e+02 3.8564e+02 3.6461e+02 3.9243e+02\n 3.9094e+02 3.8985e+02 3.9690e+02 3.7078e+02 3.9233e+02 3.8446e+02\n 3.8280e+02 3.7604e+02 3.7773e+02 3.9134e+02 3.9543e+02 3.9074e+02\n 3.7456e+02 3.5065e+02 3.8079e+02 3.5304e+02 3.5455e+02 3.5470e+02\n 3.1603e+02 1.3142e+02 3.7552e+02 3.7533e+02 3.9205e+02 3.6615e+02\n 3.4788e+02 3.9690e+02 3.9690e+02 3.9690e+02 3.6302e+02 3.9690e+02\n 3.9690e+02 3.9374e+02 3.9690e+02 3.9690e+02 3.9690e+02 3.9690e+02\n 2.8583e+02 3.9690e+02 3.9690e+02 3.9690e+02 3.7292e+02 3.9690e+02\n 3.9443e+02 3.7838e+02 3.9690e+02 3.9690e+02 3.9690e+02 3.9198e+02\n 3.9690e+02 3.9310e+02 3.9690e+02 3.3816e+02 3.9690e+02 3.9690e+02\n 3.7611e+02 3.9690e+02 3.2946e+02 3.8497e+02 3.7022e+02 3.3209e+02\n 3.1464e+02 1.7936e+02 2.6000e+00 3.5050e+01 2.8790e+01 2.1097e+02\n 8.8270e+01 2.7250e+01 2.1570e+01 1.2736e+02 1.6450e+01 4.8450e+01\n 3.1875e+02 3.1998e+02 2.9155e+02 2.5200e+00 3.6500e+00 7.6800e+00\n 2.4650e+01 1.8820e+01 9.6730e+01 6.0720e+01 8.3450e+01 8.1330e+01\n 9.7950e+01 1.0019e+02 1.0063e+02 1.0985e+02 2.7490e+01 9.3200e+00\n 6.8950e+01 3.9690e+02 3.9145e+02 3.8596e+02 3.9569e+02 3.8673e+02\n 2.4052e+02 4.3060e+01 3.1801e+02 3.8852e+02 3.9690e+02 3.0421e+02\n 3.2000e-01 3.5529e+02 3.8509e+02 3.7587e+02 6.6800e+00 5.0920e+01\n 1.0480e+01 3.5000e+00 2.7221e+02 3.9690e+02 2.5523e+02 3.9143e+02\n 3.9690e+02 3.9382e+02 3.9690e+02 3.3440e+02 2.2010e+01 3.3129e+02\n 3.6874e+02 3.9690e+02 3.9690e+02 3.9533e+02 3.9337e+02 3.7468e+02\n 3.5258e+02 3.0276e+02 3.9621e+02 3.4948e+02 3.7970e+02 3.8332e+02\n 3.9690e+02 3.9307e+02 3.9528e+02 3.9292e+02 3.7073e+02 3.8862e+02\n 3.9268e+02 3.8822e+02 3.9509e+02 3.4405e+02 3.1843e+02 3.9011e+02\n 3.9690e+02 3.9690e+02 3.9690e+02 3.9329e+02 3.9690e+02 3.9690e+02\n 3.9690e+02 3.9577e+02 3.9690e+02 3.9199e+02 3.9690e+02 3.9690e+02\n 3.9345e+02 3.9690e+02].\nReshape your data either using array.reshape(-1, 1) if your data has a single feature or array.reshape(1, -1) if it contains a single sample."
     ]
    }
   ],
   "source": [
    "age = boston_cont[\"AGE\"]\n",
    "b = boston_cont[\"B\"]\n",
    "rm = boston_cont[\"RM\"]\n",
    "logcrim = data_log[\"CRIM\"] \n",
    "logdis = data_log[\"DIS\"]  \n",
    "logindus = data_log[\"INDUS\"] \n",
    "loglstat = data_log[\"LSTAT\"]\n",
    "logptratio = data_log[\"PTRATIO\"]\n",
    "\n",
    "features_final= pd.DataFrame([])\n",
    "\n",
    "features_final[\"CRIM\"] = (logcrim-min(logcrim))/(max(logcrim)-min(logcrim))\n",
    "features_final[\"B\"] = (b-min(b))/(max(b)-min(b))\n",
    "features_final[\"RM\"] = (rm-min(rm))/(max(rm)-min(rm))\n",
    "features_final[\"DIS\"]   = (logdis-np.mean(logdis))/np.sqrt(np.var(logdis))\n",
    "features_final[\"INDUS\"] = (logindus-np.mean(logindus))/np.sqrt(np.var(logindus))\n",
    "features_final[\"LSTAT\"] = (loglstat-np.mean(loglstat))/(max(loglstat)-min(loglstat))\n",
    "features_final[\"AGE\"] = (age-np.mean(age))/(max(age)-min(age))\n",
    "features_final[\"PTRATIO\"] = (logptratio)/(np.linalg.norm(logptratio))\n",
    "\n",
    "features_final.hist(figsize  = [8, 8]);"
   ]
  },
  {
   "cell_type": "markdown",
   "metadata": {},
   "source": [
    "## Summary\n",
    "Great! You've now transformed your final data using feature scaling and normalization, and stored them in the `features_final` dataframe."
   ]
  }
 ],
 "metadata": {
  "kernelspec": {
   "display_name": "Python 3",
   "language": "python",
   "name": "python3"
  },
  "language_info": {
   "codemirror_mode": {
    "name": "ipython",
    "version": 3
   },
   "file_extension": ".py",
   "mimetype": "text/x-python",
   "name": "python",
   "nbconvert_exporter": "python",
   "pygments_lexer": "ipython3",
   "version": "3.6.6"
  }
 },
 "nbformat": 4,
 "nbformat_minor": 2
}
